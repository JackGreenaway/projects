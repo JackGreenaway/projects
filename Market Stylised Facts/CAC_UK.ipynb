{
 "cells": [
  {
   "cell_type": "markdown",
   "metadata": {},
   "source": [
    "#### Cross-asset Correlation of the UK Economy"
   ]
  },
  {
   "cell_type": "code",
   "execution_count": null,
   "metadata": {},
   "outputs": [],
   "source": [
    "# Import packages\n",
    "import pandas as pd \n",
    "import numpy as np\n",
    "import yfinance as yf\n",
    "import scipy.stats as sp\n",
    "import matplotlib.pyplot as plt"
   ]
  },
  {
   "cell_type": "code",
   "execution_count": null,
   "metadata": {},
   "outputs": [],
   "source": [
    "#import data\n",
    "#bond = the bond of the country, stock = the stock/index being analysed\n",
    "ticker = [\"^FTSE\"]\n",
    "start = \"1993-11-01\"\n",
    "end = \"2020-12-31\"\n",
    "df = pd.DataFrame(yf.download(ticker, start, end)[\"Adj Close\"]).tz_localize(None)\n",
    "\n",
    "# read the CSV containing the UK bond price details\n",
    "# Yahoo Finance didn't carry the data, and Refinitiv didn't have enough of a timescale\n",
    "# Therefore, the data was collected from the Government website\n",
    "uk_bond = pd.read_csv(\"UK_Bond.csv\", header = 0, index_col = 0, parse_dates = True, infer_datetime_format = True)\n",
    "# Changes the naivety of the datetime settings on the df\n",
    "uk_bond.index = pd.to_datetime(uk_bond.index)\n",
    "\n",
    "# conjoin the two data frames by matching up the indexes for each day\n",
    "df = df.join(uk_bond, how='outer')\n",
    "df = df.rename(columns = {list(df)[1]: \"Bond\", list(df)[0]: \"Stock\"})\n",
    "\n",
    "# try and expect are used in situations where, if running more than once, will result in an error\n",
    "try:\n",
    "    df = df.dropna()\n",
    "except:\n",
    "    pass"
   ]
  },
  {
   "cell_type": "code",
   "execution_count": null,
   "metadata": {},
   "outputs": [],
   "source": [
    "df.info()"
   ]
  },
  {
   "cell_type": "code",
   "execution_count": null,
   "metadata": {},
   "outputs": [],
   "source": [
    "# Partition into different data sets by date\n",
    "sdf90 = df[\"1990\":\"2000\"]\n",
    "sdf00 = df[\"2000\":\"2010\"]\n",
    "sdf10 = df[\"2010\":\"2020\"]"
   ]
  },
  {
   "cell_type": "code",
   "execution_count": null,
   "metadata": {},
   "outputs": [],
   "source": [
    "# create a new data frame with the log returns of both the bond and asset\n",
    "log_df = pd.DataFrame()\n",
    "\n",
    "for col in df.columns:\n",
    "    # loops through each column in the data frame, calculates the log return, and adds it to a new data frame\n",
    "    log_df[col] = np.log(df[col] / df[col].shift(1))\n",
    "    \n",
    "log_df = log_df.dropna()"
   ]
  },
  {
   "cell_type": "code",
   "execution_count": null,
   "metadata": {},
   "outputs": [],
   "source": [
    "log_df"
   ]
  },
  {
   "cell_type": "code",
   "execution_count": null,
   "metadata": {},
   "outputs": [],
   "source": [
    "# Partition into different data sets by date\n",
    "df90 = log_df[\"1990\":\"2000\"]\n",
    "df00 = log_df[\"2000\":\"2010\"]\n",
    "df10 = log_df[\"2010\":\"2020\"]"
   ]
  },
  {
   "cell_type": "code",
   "execution_count": null,
   "metadata": {},
   "outputs": [],
   "source": [
    "#calculate correlations of each time frame\n",
    "#1990 - 2000\n",
    "c90p = sp.pearsonr(df90.Stock, df90.Bond)\n",
    "c90s = sp.spearmanr(df90.Stock, df90.Bond)\n",
    "d90 = [c90p[0], c90p[1], c90s[0], c90s[1]]\n",
    "#2000 - 2010\n",
    "c00p = sp.pearsonr(df00.Stock, df00.Bond)\n",
    "c00s = sp.spearmanr(df00.Stock, df00.Bond)\n",
    "d00 = [c00p[0], c00p[1], c00s[0], c00s[1]]\n",
    "#2010 - 2020\n",
    "c10p = sp.pearsonr(df10.Stock, df10.Bond)\n",
    "c10s = sp.spearmanr(df10.Stock, df10.Bond)\n",
    "d10 = [c10p[0], c10p[1], c10s[0], c10s[1]]\n",
    "\n",
    "#present the correlations in a data frame\n",
    "data = {\"1990 - 2000\": d90, \"2000 - 2010\": d00, \"2010 - 2020\": d10}\n",
    "corr_df = pd.DataFrame(data, index = [\"Pearson\", \"p-value\", \"Spearman\", \"p-value\"])\n",
    "corr_df.round(3)"
   ]
  },
  {
   "cell_type": "code",
   "execution_count": null,
   "metadata": {},
   "outputs": [],
   "source": [
    "#calculate covariance of each time frame\n",
    "#1990 - 2000\n",
    "c90 = np.cov(d90)\n",
    "#2000 - 2010\n",
    "c00 = np.cov(d00)\n",
    "#2010 - 2020\n",
    "c10 = np.cov(d10)\n",
    "\n",
    "#present the correlations in a data frame\n",
    "data = {\"1990 - 2000\": c90, \"2000 - 2010\": c00, \"2010 - 2020\": c10}\n",
    "corr_df = pd.DataFrame(data, index = [\"Covariance\"])\n",
    "corr_df.round(3)"
   ]
  },
  {
   "cell_type": "code",
   "execution_count": null,
   "metadata": {},
   "outputs": [],
   "source": [
    "#creation of a subplot to show a comparison of the log returns between the stocks and bonds in different time frames\n",
    "import matplotlib.dates as mdates\n",
    "\n",
    "plt.rcParams.update({\"font.size\": 14})\n",
    "\n",
    "fig, ax = plt.subplots(2, 3, figsize=(12, 8), \n",
    "                       sharex = False, sharey = True)\n",
    "\n",
    "#Plotting 1990 - 2000\n",
    "ax[0][0].set_title(\"1990 - 2000\")\n",
    "df90.Stock.plot(ax = ax[0][0], color = \"g\", label = \"Stock\")\n",
    "ax[0][0].get_xaxis().set_visible(False)\n",
    "df90.Bond.plot(ax = ax[1][0], color = \"g\", label = \"Bond\")\n",
    "ax[1][0].xaxis.set_major_locator(mdates.YearLocator(3))\n",
    "\n",
    "#Plotting 2000 - 2010\n",
    "ax[0][1].set_title(\"2000 - 2010\")\n",
    "df00.Stock.plot(ax = ax[0][1], label = \"Stock\")\n",
    "ax[0][1].get_xaxis().set_visible(False)\n",
    "df00.Bond.plot(ax = ax[1][1], label = \"Bond\")\n",
    "ax[1][1].xaxis.set_major_locator(mdates.YearLocator(3))\n",
    "\n",
    "#Plotting 2010 - 2020\n",
    "ax[0][2].set_title(\"2010 - 2020\")\n",
    "df10.Stock.plot(ax = ax[0][2], color = \"r\", label = \"Stock\")\n",
    "ax[0][2].get_xaxis().set_visible(False)\n",
    "df10.Bond.plot(ax = ax[1][2], color = \"r\", label = \"Bond\")\n",
    "ax[1][2].xaxis.set_major_locator(mdates.YearLocator(3))\n",
    "\n",
    "fig.suptitle(\"Log Returns\")\n",
    "\n",
    "ax[0][0].set(ylabel = \"Stock\")\n",
    "ax[1][0].set(ylabel = \"Bond\", xlabel = \"Date\")\n",
    "\n",
    "#plt.tight_layout()\n",
    "#plt.savefig(\"AssetCorrelationLogUK.png\")\n",
    "\n",
    "plt.show()"
   ]
  },
  {
   "cell_type": "code",
   "execution_count": null,
   "metadata": {},
   "outputs": [],
   "source": [
    "# Calculating a daily correlation\n",
    "from matplotlib.pyplot import figure\n",
    "\n",
    "rolling_corr = log_df.Stock.rolling(252).corr(log_df.Bond)\n",
    "\n",
    "# Plotting the correlation\n",
    "figure(figsize=(12, 6), dpi=80)\n",
    "plt.plot(rolling_corr)\n",
    "\n",
    "plt.title('Rolling Daily Correlation')\n",
    "plt.ylabel('Correlation')\n",
    "plt.xlabel('Date')\n",
    "\n",
    "plt.axhline(y = 0.0, color= 'black', linestyle = '-', linewidth = 0.5)\n",
    "\n",
    "#plt.savefig('RollingCorrelationUK.png')\n",
    "#plt.tight_layout()\n",
    "\n",
    "avg_corr = sp.pearsonr(log_df.Stock, log_df.Bond)\n",
    "print(avg_corr)"
   ]
  },
  {
   "cell_type": "code",
   "execution_count": null,
   "metadata": {},
   "outputs": [],
   "source": []
  }
 ],
 "metadata": {
  "kernelspec": {
   "display_name": "Python 3.9.12 ('base')",
   "language": "python",
   "name": "python3"
  },
  "language_info": {
   "codemirror_mode": {
    "name": "ipython",
    "version": 3
   },
   "file_extension": ".py",
   "mimetype": "text/x-python",
   "name": "python",
   "nbconvert_exporter": "python",
   "pygments_lexer": "ipython3",
   "version": "3.9.12 (main, Apr  4 2022, 05:22:27) [MSC v.1916 64 bit (AMD64)]"
  },
  "orig_nbformat": 4,
  "vscode": {
   "interpreter": {
    "hash": "fc3776ea825f2288ceefe5f685df13be93cd02d34ac5945f3f6dcb72c7ff4efc"
   }
  }
 },
 "nbformat": 4,
 "nbformat_minor": 2
}
