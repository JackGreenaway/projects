{
 "cells": [
  {
   "cell_type": "markdown",
   "metadata": {},
   "source": [
    "#### The Leverage Effect"
   ]
  },
  {
   "cell_type": "code",
   "execution_count": null,
   "metadata": {},
   "outputs": [],
   "source": [
    "# Import packages\n",
    "import pandas as pd \n",
    "import numpy as np\n",
    "import yfinance as yf\n",
    "import scipy.stats as sp\n",
    "import matplotlib.pyplot as plt"
   ]
  },
  {
   "cell_type": "code",
   "execution_count": null,
   "metadata": {},
   "outputs": [],
   "source": [
    "# import data\n",
    "# bond = the bond of the country, stock = the stock/index being analysed\n",
    "ticker = [\"LMT\"] # Here the desired stock/index is chosen [\"LMT\", \"SHEL.L\", \"AMZN\", \"^GSPC\", \"^FTSE\"]\n",
    "start = \"1990-01-01\"\n",
    "end = \"2020-12-31\"\n",
    "df = pd.DataFrame(yf.download(ticker, start, end)[\"Adj Close\"])\n",
    "df = df.rename(columns = {\"Adj Close\": \"Close\"})\n",
    "df = df.dropna()"
   ]
  },
  {
   "cell_type": "code",
   "execution_count": null,
   "metadata": {},
   "outputs": [],
   "source": [
    "df.info()"
   ]
  },
  {
   "cell_type": "code",
   "execution_count": null,
   "metadata": {},
   "outputs": [],
   "source": [
    "df.head()"
   ]
  },
  {
   "cell_type": "code",
   "execution_count": null,
   "metadata": {},
   "outputs": [],
   "source": [
    "#  create log returns of asset\n",
    "df[\"log_rtn\"] = np.log(df.Close / df.Close.shift(1))\n",
    "\n",
    "df = df.dropna()"
   ]
  },
  {
   "cell_type": "code",
   "execution_count": null,
   "metadata": {},
   "outputs": [],
   "source": [
    "#  create a daily and monthly volatility of the asset\n",
    "df[\"moving_std_21\"] = df[[\"log_rtn\"]].rolling(window=21).std()\n",
    "df[\"moving_std_252\"] = df[[\"log_rtn\"]].rolling(window=252).std()\n",
    "\n",
    "df = df.dropna()"
   ]
  },
  {
   "cell_type": "code",
   "execution_count": null,
   "metadata": {},
   "outputs": [],
   "source": [
    "# Plotting graph of the simple returns, log returns, and volatilities\n",
    "import matplotlib.dates as mdates\n",
    "plt.rcParams.update({\"font.size\": 21})\n",
    "\n",
    "#  plot a 3 way plot for qualitative analysis\n",
    "fig, ax = plt.subplots(3, 1, figsize=(25, 12), \n",
    "                       sharex=True)\n",
    "\n",
    "df.Close.plot(ax = ax[0])\n",
    "ax[0].set(title = list(ticker)[0] + \" Time Series\", # Automated changing of title name inline with RIC\n",
    "          ylabel = \"Price ($)\")\n",
    "\n",
    "df.log_rtn.plot(ax = ax[1])\n",
    "ax[1].set(ylabel = \"Log returns\")\n",
    "\n",
    "df.moving_std_21.plot(ax = ax[2], color = \"g\", label = \"21d Vol\")\n",
    "df.moving_std_252.plot(ax = ax[2], color = \"r\", label = \"252d Vol\")\n",
    "ax[2].set(ylabel = \"Moving Volatility\",\n",
    "          xlabel = \"Date\")\n",
    "ax[2].legend()\n",
    "ax[2].xaxis.set_major_locator(mdates.YearLocator(2))\n",
    "\n",
    "#plt.tight_layout()\n",
    "#plt.savefig(f\"{ticker}.png\")\n",
    "\n",
    "plt.show()"
   ]
  },
  {
   "cell_type": "code",
   "execution_count": null,
   "metadata": {},
   "outputs": [],
   "source": [
    "# select a window of data to test correlation for\n",
    "win = df[\"1990\":\"2020\"]\n",
    "\n",
    "# calculate correlations\n",
    "# asset to 21d volatility\n",
    "p21 = sp.pearsonr(win.Close, win.moving_std_21)\n",
    "s21 = sp.spearmanr(win.Close, win.moving_std_21)\n",
    "df_21 = [p21[0], p21[1], s21[0], s21[1]]\n",
    "\n",
    "# asset to 252d volatility\n",
    "p252 = sp.pearsonr(win.Close, win.moving_std_252)\n",
    "s252 = sp.spearmanr(win.Close, win.moving_std_252)\n",
    "df_252 = [p252[0], p252[1], s252[0], s252[1]]\n",
    "\n",
    "# present the list as a data frame\n",
    "data = {\"Asset/21d\": df_21, \"Asset/252d\": df_252}\n",
    "corr_df = pd.DataFrame(data, index = [\"Pearson\", \"p-value\", \"Spearman\", \"p-value\"])\n",
    "corr_df.round(3)"
   ]
  },
  {
   "cell_type": "code",
   "execution_count": null,
   "metadata": {},
   "outputs": [],
   "source": [
    "# vix to s&p500 correlation\n",
    "# import data\n",
    "# bond = the bond of the country, stock = the stock/index being analysed\n",
    "ticker = [\"^GSPC\", \"^VIX\"]\n",
    "start = \"1990-01-01\"\n",
    "end = \"2020-12-31\"\n",
    "vix = pd.DataFrame(yf.download(ticker, start, end)[\"Adj Close\"])\n",
    "vix = vix.rename(columns = {\"^GSPC\": \"SP500\", \"^VIX\": \"VIX\"})"
   ]
  },
  {
   "cell_type": "code",
   "execution_count": null,
   "metadata": {},
   "outputs": [],
   "source": [
    "# create log returns for each column\n",
    "for col in vix.columns:\n",
    "    vix[col] = np.log(vix[col] / vix[col].shift(1))\n",
    "    \n",
    "vix = vix.dropna()"
   ]
  },
  {
   "cell_type": "code",
   "execution_count": null,
   "metadata": {},
   "outputs": [],
   "source": [
    "# plot S&P500 to VIX on a scatter graph\n",
    "plt.scatter(vix.SP500, vix.VIX)\n",
    "\n",
    "plt.title(\"S&P500 to VIX Correlation (30 Year)\")\n",
    "plt.ylabel(\"S&P500\")\n",
    "plt.xlabel(\"VIX\")\n",
    "\n",
    "# create a trendline\n",
    "z = np.polyfit(vix.SP500, vix.VIX, 1)\n",
    "p = np.poly1d(z)\n",
    "plt.plot(vix.SP500, p(vix.SP500), color = \"r\")\n",
    "\n",
    "#plt.tight_layout()\n",
    "#plt.savefig(\"SP500_VIX.png\")\n",
    "\n",
    "plt.show()"
   ]
  },
  {
   "cell_type": "code",
   "execution_count": null,
   "metadata": {},
   "outputs": [],
   "source": [
    "# run tests of correlations\n",
    "pear = sp.pearsonr(vix.SP500, vix.VIX)\n",
    "spea = sp.spearmanr(vix.SP500, vix.VIX)\n",
    "\n",
    "# place results into a data frame\n",
    "data = {\"Pearson\": pear[0:2], \"Spearman\": spea[0:2]}\n",
    "corr = pd.DataFrame(data, index = [\"Correlation\", \"p-value\"])\n",
    "corr.round(3)"
   ]
  },
  {
   "cell_type": "code",
   "execution_count": null,
   "metadata": {},
   "outputs": [],
   "source": []
  }
 ],
 "metadata": {
  "kernelspec": {
   "display_name": "Python 3.9.12 ('base')",
   "language": "python",
   "name": "python3"
  },
  "language_info": {
   "codemirror_mode": {
    "name": "ipython",
    "version": 3
   },
   "file_extension": ".py",
   "mimetype": "text/x-python",
   "name": "python",
   "nbconvert_exporter": "python",
   "pygments_lexer": "ipython3",
   "version": "3.9.12"
  },
  "orig_nbformat": 4,
  "vscode": {
   "interpreter": {
    "hash": "fc3776ea825f2288ceefe5f685df13be93cd02d34ac5945f3f6dcb72c7ff4efc"
   }
  }
 },
 "nbformat": 4,
 "nbformat_minor": 2
}
