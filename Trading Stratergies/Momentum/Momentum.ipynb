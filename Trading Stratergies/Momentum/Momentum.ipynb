{
 "cells": [
  {
   "cell_type": "code",
   "execution_count": 1,
   "metadata": {},
   "outputs": [],
   "source": [
    "import pandas as pd\n",
    "import yfinance as yf\n",
    "import numpy as np"
   ]
  },
  {
   "cell_type": "code",
   "execution_count": 2,
   "metadata": {},
   "outputs": [],
   "source": [
    "symbols = pd.read_html('https://en.wikipedia.org/wiki/List_of_S%26P_500_companies')[0] # This is S&P500\n",
    "symbols = symbols.Symbol.to_list()  \n",
    "\n",
    "#symbols = pd.read_html('https://en.wikipedia.org/wiki/Nasdaq-100')[4] # this is NASDAQ\n",
    "#symbols = symbols.Ticker.to_list()  "
   ]
  },
  {
   "cell_type": "code",
   "execution_count": 3,
   "metadata": {},
   "outputs": [],
   "source": [
    "start_date = '2010-01-01'"
   ]
  },
  {
   "cell_type": "code",
   "execution_count": 4,
   "metadata": {},
   "outputs": [
    {
     "name": "stdout",
     "output_type": "stream",
     "text": [
      "[*********************100%***********************]  503 of 503 completed\n",
      "\n",
      "2 Failed downloads:\n",
      "- BF.B: No data found for this date range, symbol may be delisted\n",
      "- BRK.B: No timezone found, symbol may be delisted\n"
     ]
    }
   ],
   "source": [
    "data = yf.download(symbols,start=start_date)['Adj Close']"
   ]
  },
  {
   "cell_type": "code",
   "execution_count": 5,
   "metadata": {},
   "outputs": [],
   "source": [
    "df = data.copy()\n",
    "df.index = pd.to_datetime(df.index)"
   ]
  },
  {
   "attachments": {},
   "cell_type": "markdown",
   "metadata": {},
   "source": [
    "## <center>Format Data</center>"
   ]
  },
  {
   "cell_type": "code",
   "execution_count": 6,
   "metadata": {},
   "outputs": [
    {
     "data": {
      "text/html": [
       "<div>\n",
       "<style scoped>\n",
       "    .dataframe tbody tr th:only-of-type {\n",
       "        vertical-align: middle;\n",
       "    }\n",
       "\n",
       "    .dataframe tbody tr th {\n",
       "        vertical-align: top;\n",
       "    }\n",
       "\n",
       "    .dataframe thead th {\n",
       "        text-align: right;\n",
       "    }\n",
       "</style>\n",
       "<table border=\"1\" class=\"dataframe\">\n",
       "  <thead>\n",
       "    <tr style=\"text-align: right;\">\n",
       "      <th></th>\n",
       "      <th>A</th>\n",
       "      <th>AAL</th>\n",
       "      <th>AAP</th>\n",
       "      <th>AAPL</th>\n",
       "      <th>ABBV</th>\n",
       "      <th>ABC</th>\n",
       "      <th>ABT</th>\n",
       "      <th>ACGL</th>\n",
       "      <th>ACN</th>\n",
       "      <th>ADBE</th>\n",
       "      <th>...</th>\n",
       "      <th>WYNN</th>\n",
       "      <th>XEL</th>\n",
       "      <th>XOM</th>\n",
       "      <th>XRAY</th>\n",
       "      <th>XYL</th>\n",
       "      <th>YUM</th>\n",
       "      <th>ZBH</th>\n",
       "      <th>ZBRA</th>\n",
       "      <th>ZION</th>\n",
       "      <th>ZTS</th>\n",
       "    </tr>\n",
       "    <tr>\n",
       "      <th>Date</th>\n",
       "      <th></th>\n",
       "      <th></th>\n",
       "      <th></th>\n",
       "      <th></th>\n",
       "      <th></th>\n",
       "      <th></th>\n",
       "      <th></th>\n",
       "      <th></th>\n",
       "      <th></th>\n",
       "      <th></th>\n",
       "      <th></th>\n",
       "      <th></th>\n",
       "      <th></th>\n",
       "      <th></th>\n",
       "      <th></th>\n",
       "      <th></th>\n",
       "      <th></th>\n",
       "      <th></th>\n",
       "      <th></th>\n",
       "      <th></th>\n",
       "      <th></th>\n",
       "    </tr>\n",
       "  </thead>\n",
       "  <tbody>\n",
       "    <tr>\n",
       "      <th>2010-01-31 00:00:00-05:00</th>\n",
       "      <td>0.895527</td>\n",
       "      <td>1.113207</td>\n",
       "      <td>0.976969</td>\n",
       "      <td>0.897434</td>\n",
       "      <td>1.0</td>\n",
       "      <td>1.023658</td>\n",
       "      <td>0.979189</td>\n",
       "      <td>0.994302</td>\n",
       "      <td>0.974329</td>\n",
       "      <td>0.870855</td>\n",
       "      <td>...</td>\n",
       "      <td>0.967480</td>\n",
       "      <td>0.985769</td>\n",
       "      <td>0.931742</td>\n",
       "      <td>0.949052</td>\n",
       "      <td>1.0</td>\n",
       "      <td>0.980643</td>\n",
       "      <td>0.938354</td>\n",
       "      <td>0.910359</td>\n",
       "      <td>1.423106</td>\n",
       "      <td>1.0</td>\n",
       "    </tr>\n",
       "    <tr>\n",
       "      <th>2010-02-28 00:00:00-05:00</th>\n",
       "      <td>1.122369</td>\n",
       "      <td>1.380414</td>\n",
       "      <td>1.034221</td>\n",
       "      <td>1.065396</td>\n",
       "      <td>1.0</td>\n",
       "      <td>1.031652</td>\n",
       "      <td>1.025312</td>\n",
       "      <td>1.034107</td>\n",
       "      <td>0.975116</td>\n",
       "      <td>1.072755</td>\n",
       "      <td>...</td>\n",
       "      <td>1.027311</td>\n",
       "      <td>1.001443</td>\n",
       "      <td>1.015429</td>\n",
       "      <td>0.986878</td>\n",
       "      <td>1.0</td>\n",
       "      <td>0.985677</td>\n",
       "      <td>1.017933</td>\n",
       "      <td>1.094636</td>\n",
       "      <td>0.977876</td>\n",
       "      <td>1.0</td>\n",
       "    </tr>\n",
       "    <tr>\n",
       "      <th>2010-03-31 00:00:00-04:00</th>\n",
       "      <td>1.093135</td>\n",
       "      <td>1.002729</td>\n",
       "      <td>1.028855</td>\n",
       "      <td>1.148470</td>\n",
       "      <td>1.0</td>\n",
       "      <td>1.031384</td>\n",
       "      <td>0.970523</td>\n",
       "      <td>1.030684</td>\n",
       "      <td>1.049537</td>\n",
       "      <td>1.020779</td>\n",
       "      <td>...</td>\n",
       "      <td>1.192859</td>\n",
       "      <td>1.030483</td>\n",
       "      <td>1.030462</td>\n",
       "      <td>1.055621</td>\n",
       "      <td>1.0</td>\n",
       "      <td>1.136714</td>\n",
       "      <td>1.032618</td>\n",
       "      <td>1.036052</td>\n",
       "      <td>1.177993</td>\n",
       "      <td>1.0</td>\n",
       "    </tr>\n",
       "    <tr>\n",
       "      <th>2010-04-30 00:00:00-04:00</th>\n",
       "      <td>1.054376</td>\n",
       "      <td>0.961905</td>\n",
       "      <td>1.075859</td>\n",
       "      <td>1.111022</td>\n",
       "      <td>1.0</td>\n",
       "      <td>1.066736</td>\n",
       "      <td>0.979328</td>\n",
       "      <td>0.991213</td>\n",
       "      <td>1.049416</td>\n",
       "      <td>0.949958</td>\n",
       "      <td>...</td>\n",
       "      <td>1.163655</td>\n",
       "      <td>1.025944</td>\n",
       "      <td>1.011794</td>\n",
       "      <td>1.050745</td>\n",
       "      <td>1.0</td>\n",
       "      <td>1.112380</td>\n",
       "      <td>1.028885</td>\n",
       "      <td>0.981419</td>\n",
       "      <td>1.315476</td>\n",
       "      <td>1.0</td>\n",
       "    </tr>\n",
       "    <tr>\n",
       "      <th>2010-05-31 00:00:00-04:00</th>\n",
       "      <td>0.892444</td>\n",
       "      <td>1.248939</td>\n",
       "      <td>1.147672</td>\n",
       "      <td>0.983875</td>\n",
       "      <td>1.0</td>\n",
       "      <td>1.016527</td>\n",
       "      <td>0.929632</td>\n",
       "      <td>0.972744</td>\n",
       "      <td>0.859762</td>\n",
       "      <td>0.954762</td>\n",
       "      <td>...</td>\n",
       "      <td>0.953687</td>\n",
       "      <td>0.942069</td>\n",
       "      <td>0.898194</td>\n",
       "      <td>0.884857</td>\n",
       "      <td>1.0</td>\n",
       "      <td>0.965347</td>\n",
       "      <td>0.918240</td>\n",
       "      <td>0.946644</td>\n",
       "      <td>0.833923</td>\n",
       "      <td>1.0</td>\n",
       "    </tr>\n",
       "  </tbody>\n",
       "</table>\n",
       "<p>5 rows × 503 columns</p>\n",
       "</div>"
      ],
      "text/plain": [
       "                                  A       AAL       AAP      AAPL  ABBV  \\\n",
       "Date                                                                      \n",
       "2010-01-31 00:00:00-05:00  0.895527  1.113207  0.976969  0.897434   1.0   \n",
       "2010-02-28 00:00:00-05:00  1.122369  1.380414  1.034221  1.065396   1.0   \n",
       "2010-03-31 00:00:00-04:00  1.093135  1.002729  1.028855  1.148470   1.0   \n",
       "2010-04-30 00:00:00-04:00  1.054376  0.961905  1.075859  1.111022   1.0   \n",
       "2010-05-31 00:00:00-04:00  0.892444  1.248939  1.147672  0.983875   1.0   \n",
       "\n",
       "                                ABC       ABT      ACGL       ACN      ADBE  \\\n",
       "Date                                                                          \n",
       "2010-01-31 00:00:00-05:00  1.023658  0.979189  0.994302  0.974329  0.870855   \n",
       "2010-02-28 00:00:00-05:00  1.031652  1.025312  1.034107  0.975116  1.072755   \n",
       "2010-03-31 00:00:00-04:00  1.031384  0.970523  1.030684  1.049537  1.020779   \n",
       "2010-04-30 00:00:00-04:00  1.066736  0.979328  0.991213  1.049416  0.949958   \n",
       "2010-05-31 00:00:00-04:00  1.016527  0.929632  0.972744  0.859762  0.954762   \n",
       "\n",
       "                           ...      WYNN       XEL       XOM      XRAY  XYL  \\\n",
       "Date                       ...                                                \n",
       "2010-01-31 00:00:00-05:00  ...  0.967480  0.985769  0.931742  0.949052  1.0   \n",
       "2010-02-28 00:00:00-05:00  ...  1.027311  1.001443  1.015429  0.986878  1.0   \n",
       "2010-03-31 00:00:00-04:00  ...  1.192859  1.030483  1.030462  1.055621  1.0   \n",
       "2010-04-30 00:00:00-04:00  ...  1.163655  1.025944  1.011794  1.050745  1.0   \n",
       "2010-05-31 00:00:00-04:00  ...  0.953687  0.942069  0.898194  0.884857  1.0   \n",
       "\n",
       "                                YUM       ZBH      ZBRA      ZION  ZTS  \n",
       "Date                                                                    \n",
       "2010-01-31 00:00:00-05:00  0.980643  0.938354  0.910359  1.423106  1.0  \n",
       "2010-02-28 00:00:00-05:00  0.985677  1.017933  1.094636  0.977876  1.0  \n",
       "2010-03-31 00:00:00-04:00  1.136714  1.032618  1.036052  1.177993  1.0  \n",
       "2010-04-30 00:00:00-04:00  1.112380  1.028885  0.981419  1.315476  1.0  \n",
       "2010-05-31 00:00:00-04:00  0.965347  0.918240  0.946644  0.833923  1.0  \n",
       "\n",
       "[5 rows x 503 columns]"
      ]
     },
     "execution_count": 6,
     "metadata": {},
     "output_type": "execute_result"
    }
   ],
   "source": [
    "mtl = (df.pct_change() + 1)[1:].resample('M').prod()\n",
    "mtl.head()"
   ]
  },
  {
   "attachments": {},
   "cell_type": "markdown",
   "metadata": {},
   "source": [
    "---"
   ]
  },
  {
   "attachments": {},
   "cell_type": "markdown",
   "metadata": {},
   "source": [
    "## <center>Strategy</center>"
   ]
  },
  {
   "cell_type": "code",
   "execution_count": 7,
   "metadata": {},
   "outputs": [],
   "source": [
    "def get_rolling_ret(df,n):\n",
    "    return df.rolling(n).apply(np.prod)"
   ]
  },
  {
   "cell_type": "code",
   "execution_count": 8,
   "metadata": {},
   "outputs": [],
   "source": [
    "ret_12, ret_6, ret_3 = get_rolling_ret(mtl,12), get_rolling_ret(mtl,6), get_rolling_ret(mtl,3)"
   ]
  },
  {
   "cell_type": "code",
   "execution_count": 9,
   "metadata": {},
   "outputs": [],
   "source": [
    "def get_top(date):\n",
    "    top_50 = ret_12.loc[date].nlargest(50).index\n",
    "    top_30 = ret_6.loc[date].nlargest(30).index\n",
    "    top_10 = ret_3.loc[date].nlargest(10).index\n",
    "    return(top_10)"
   ]
  },
  {
   "attachments": {},
   "cell_type": "markdown",
   "metadata": {},
   "source": [
    "---"
   ]
  },
  {
   "attachments": {},
   "cell_type": "markdown",
   "metadata": {},
   "source": [
    "### Get top function for picks of the month (i.e month before)"
   ]
  },
  {
   "cell_type": "code",
   "execution_count": 10,
   "metadata": {},
   "outputs": [
    {
     "data": {
      "text/plain": [
       "Index(['ALGN', 'META', 'NVDA', 'WBD', 'CTLT', 'WST', 'URI', 'WYNN', 'MKTX',\n",
       "       'MPWR'],\n",
       "      dtype='object')"
      ]
     },
     "execution_count": 10,
     "metadata": {},
     "output_type": "execute_result"
    }
   ],
   "source": [
    "get_top('2023-02-28')"
   ]
  },
  {
   "attachments": {},
   "cell_type": "markdown",
   "metadata": {},
   "source": [
    "---"
   ]
  },
  {
   "cell_type": "code",
   "execution_count": 11,
   "metadata": {},
   "outputs": [],
   "source": [
    "portfolio = mtl.loc['2010-12-31':, get_top('2010-12-31')][1:2]"
   ]
  },
  {
   "cell_type": "code",
   "execution_count": 12,
   "metadata": {},
   "outputs": [],
   "source": [
    "def performance(date):\n",
    "    portfolio = mtl.loc[date:,get_top(date)][1:2]\n",
    "    return portfolio.mean(axis=1).values[0] "
   ]
  },
  {
   "cell_type": "code",
   "execution_count": 13,
   "metadata": {},
   "outputs": [
    {
     "data": {
      "text/plain": [
       "1.0145156593062103"
      ]
     },
     "execution_count": 13,
     "metadata": {},
     "output_type": "execute_result"
    }
   ],
   "source": [
    "performance('2010-12-31') "
   ]
  },
  {
   "attachments": {},
   "cell_type": "markdown",
   "metadata": {},
   "source": [
    "## <center>Calculate Performance and Compare</center>"
   ]
  },
  {
   "cell_type": "code",
   "execution_count": 14,
   "metadata": {},
   "outputs": [],
   "source": [
    "returns = []\n",
    "\n",
    "for date in mtl.index[:-1]:\n",
    "    returns.append(performance(date))"
   ]
  },
  {
   "cell_type": "code",
   "execution_count": 15,
   "metadata": {},
   "outputs": [
    {
     "data": {
      "text/plain": [
       "<AxesSubplot: xlabel='Date'>"
      ]
     },
     "execution_count": 15,
     "metadata": {},
     "output_type": "execute_result"
    },
    {
     "data": {
      "image/png": "[encoded data removed]",
      "text/plain": [
       "<Figure size 640x480 with 1 Axes>"
      ]
     },
     "metadata": {},
     "output_type": "display_data"
    }
   ],
   "source": [
    "returns = pd.Series([i - 0.01 for i in returns], index=mtl.index[1:]).cumprod()\n",
    "returns.plot()"
   ]
  },
  {
   "cell_type": "code",
   "execution_count": 16,
   "metadata": {},
   "outputs": [
    {
     "name": "stdout",
     "output_type": "stream",
     "text": [
      "[*********************100%***********************]  1 of 1 completed\n"
     ]
    },
    {
     "data": {
      "text/plain": [
       "<AxesSubplot: xlabel='Date'>"
      ]
     },
     "execution_count": 16,
     "metadata": {},
     "output_type": "execute_result"
    },
    {
     "data": {
      "image/png": "[encoded data removed]",
      "text/plain": [
       "<Figure size 640x480 with 1 Axes>"
      ]
     },
     "metadata": {},
     "output_type": "display_data"
    }
   ],
   "source": [
    "sp = yf.download('^GSPC',start=start_date)['Adj Close']\n",
    "\n",
    "sp = (sp.pct_change() + 1).cumprod()[1:]\n",
    "sp.plot()"
   ]
  },
  {
   "cell_type": "code",
   "execution_count": 17,
   "metadata": {},
   "outputs": [
    {
     "data": {
      "text/plain": [
       "Date\n",
       "2010-01-05 00:00:00-05:00    1.003116\n",
       "2010-01-06 00:00:00-05:00    1.003663\n",
       "2010-01-07 00:00:00-05:00    1.007679\n",
       "2010-01-08 00:00:00-05:00    1.010583\n",
       "2010-01-11 00:00:00-05:00    1.012348\n",
       "                               ...   \n",
       "2023-02-22 00:00:00-05:00    3.522582\n",
       "2023-02-23 00:00:00-05:00    3.541355\n",
       "2023-02-24 00:00:00-05:00    3.504038\n",
       "2023-02-27 00:00:00-05:00    3.514806\n",
       "2023-02-28 00:00:00-05:00    3.504135\n",
       "Name: Adj Close, Length: 3310, dtype: float64"
      ]
     },
     "execution_count": 17,
     "metadata": {},
     "output_type": "execute_result"
    }
   ],
   "source": [
    "sp"
   ]
  },
  {
   "cell_type": "code",
   "execution_count": 18,
   "metadata": {},
   "outputs": [
    {
     "data": {
      "text/plain": [
       "Date\n",
       "2010-02-28 00:00:00-05:00    1.064134\n",
       "2010-03-31 00:00:00-04:00    1.093514\n",
       "2010-04-30 00:00:00-04:00    1.225104\n",
       "2010-05-31 00:00:00-04:00    1.128173\n",
       "2010-06-30 00:00:00-04:00    1.039423\n",
       "                               ...   \n",
       "2022-10-31 00:00:00-04:00    4.439924\n",
       "2022-11-30 00:00:00-05:00    4.587426\n",
       "2022-12-31 00:00:00-05:00    4.309936\n",
       "2023-01-31 00:00:00-05:00    4.420472\n",
       "2023-02-28 00:00:00-05:00    4.369812\n",
       "Freq: M, Length: 157, dtype: float64"
      ]
     },
     "execution_count": 18,
     "metadata": {},
     "output_type": "execute_result"
    }
   ],
   "source": [
    "returns"
   ]
  },
  {
   "attachments": {},
   "cell_type": "markdown",
   "metadata": {},
   "source": [
    "---"
   ]
  },
  {
   "attachments": {},
   "cell_type": "markdown",
   "metadata": {},
   "source": [
    "- Keep in mind survivorship bias, we cannot say for certain that this will continue\n",
    "    - What about stocks that have gone under?\n",
    "    - We're overlooking poor stocks, only the upwards general trend"
   ]
  },
  {
   "attachments": {},
   "cell_type": "markdown",
   "metadata": {},
   "source": [
    "[YouTube walkthrough](https://www.youtube.com/watch?v=bUejGzheCac)"
   ]
  }
 ],
 "metadata": {
  "kernelspec": {
   "display_name": "base",
   "language": "python",
   "name": "python3"
  },
  "language_info": {
   "codemirror_mode": {
    "name": "ipython",
    "version": 3
   },
   "file_extension": ".py",
   "mimetype": "text/x-python",
   "name": "python",
   "nbconvert_exporter": "python",
   "pygments_lexer": "ipython3",
   "version": "3.9.16"
  },
  "orig_nbformat": 4,
  "vscode": {
   "interpreter": {
    "hash": "fc3776ea825f2288ceefe5f685df13be93cd02d34ac5945f3f6dcb72c7ff4efc"
   }
  }
 },
 "nbformat": 4,
 "nbformat_minor": 2
}
